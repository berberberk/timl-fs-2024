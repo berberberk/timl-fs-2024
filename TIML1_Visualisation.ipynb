{
  "nbformat": 4,
  "nbformat_minor": 0,
  "metadata": {
    "colab": {
      "provenance": [],
      "authorship_tag": "ABX9TyO5/r1lfnuq44nzRZmi5XQK",
      "include_colab_link": true
    },
    "kernelspec": {
      "name": "python3",
      "display_name": "Python 3"
    },
    "language_info": {
      "name": "python"
    }
  },
  "cells": [
    {
      "cell_type": "markdown",
      "metadata": {
        "id": "view-in-github",
        "colab_type": "text"
      },
      "source": [
        "<a href=\"https://colab.research.google.com/github/berberberk/timl-fs-2024/blob/main/TIML1_Visualisation.ipynb\" target=\"_parent\"><img src=\"https://colab.research.google.com/assets/colab-badge.svg\" alt=\"Open In Colab\"/></a>"
      ]
    },
    {
      "cell_type": "code",
      "execution_count": null,
      "metadata": {
        "id": "h2jwXJ_B2FDs"
      },
      "outputs": [],
      "source": [
        "import numpy as np\n",
        "\n",
        "def sliding_window(x, w, step):\n",
        "  A = []\n",
        "  for i in range(0, len(x) - w + 1, step):\n",
        "    A.append(list(x)[i:i+w])\n",
        "  return A"
      ]
    },
    {
      "cell_type": "code",
      "source": [
        "window = 3\n",
        "step_s = 1\n",
        "x1 = np.array([8, 1, 4, 5, -2, 5, 9, 0])\n",
        "A1 = np.array([[8, 1, 4],\n",
        "               [1, 4, 5],\n",
        "               [4, 5, -2],\n",
        "               [5, -2, 5],\n",
        "               [-2, 5, 9],\n",
        "               [5, 9, 0]])\n",
        "\n",
        "print(np.array_equal(sliding_window(x1, w=window, step=step_s),A1))\n",
        "\n",
        "window = 2\n",
        "step_s = 4\n",
        "x2 = np.array([8, 3, 4, 1, -6, 5, 9, 2, 10, 11, -14, 0])\n",
        "A2 = np.array([[8, 3],\n",
        "               [-6, 5],\n",
        "               [10, 11]])\n",
        "\n",
        "print(np.array_equal(sliding_window(x2, w=window, step=step_s),A2))"
      ],
      "metadata": {
        "colab": {
          "base_uri": "https://localhost:8080/"
        },
        "id": "c75g5o8a-E9U",
        "outputId": "1594ea53-da3c-4dc4-c91a-df02f4cb79b0"
      },
      "execution_count": null,
      "outputs": [
        {
          "output_type": "stream",
          "name": "stdout",
          "text": [
            "True\n",
            "True\n"
          ]
        }
      ]
    }
  ]
}